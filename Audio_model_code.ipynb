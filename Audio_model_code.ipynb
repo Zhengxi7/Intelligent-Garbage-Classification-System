{
  "nbformat": 4,
  "nbformat_minor": 0,
  "metadata": {
    "kernelspec": {
      "display_name": "Python 3",
      "language": "python",
      "name": "python3"
    },
    "language_info": {
      "codemirror_mode": {
        "name": "ipython",
        "version": 3
      },
      "file_extension": ".py",
      "mimetype": "text/x-python",
      "name": "python",
      "nbconvert_exporter": "python",
      "pygments_lexer": "ipython3",
      "version": "3.6.8"
    },
    "colab": {
      "provenance": [],
      "collapsed_sections": []
    }
  },
  "cells": [
    {
      "cell_type": "markdown",
      "source": [
        "# 1.Install the necessary libraries"
      ],
      "metadata": {
        "id": "6pCGpEbeEHvL"
      }
    },
    {
      "cell_type": "code",
      "metadata": {
        "id": "Dwj9NlESb71c",
        "colab": {
          "base_uri": "https://localhost:8080/"
        },
        "outputId": "d558a2f0-65a6-4c8c-a032-f4cd3eec6492"
      },
      "source": [
        "# Installation (only for Google Colab)\n",
        "!pip install python_speech_features==0.6 hmmlearn==0.2.1\n",
        "!pip install noisereduce\n",
        "!pip install pyrubberband"
      ],
      "execution_count": 1,
      "outputs": [
        {
          "output_type": "stream",
          "name": "stdout",
          "text": [
            "Looking in indexes: https://pypi.org/simple, https://us-python.pkg.dev/colab-wheels/public/simple/\n",
            "Collecting python_speech_features==0.6\n",
            "  Downloading python_speech_features-0.6.tar.gz (5.6 kB)\n",
            "Collecting hmmlearn==0.2.1\n",
            "  Downloading hmmlearn-0.2.1.tar.gz (150 kB)\n",
            "\u001b[K     |████████████████████████████████| 150 kB 3.8 MB/s \n",
            "\u001b[?25hRequirement already satisfied: numpy in /usr/local/lib/python3.7/dist-packages (from hmmlearn==0.2.1) (1.21.6)\n",
            "Requirement already satisfied: scikit-learn>=0.16 in /usr/local/lib/python3.7/dist-packages (from hmmlearn==0.2.1) (1.0.2)\n",
            "Requirement already satisfied: joblib>=0.11 in /usr/local/lib/python3.7/dist-packages (from scikit-learn>=0.16->hmmlearn==0.2.1) (1.2.0)\n",
            "Requirement already satisfied: threadpoolctl>=2.0.0 in /usr/local/lib/python3.7/dist-packages (from scikit-learn>=0.16->hmmlearn==0.2.1) (3.1.0)\n",
            "Requirement already satisfied: scipy>=1.1.0 in /usr/local/lib/python3.7/dist-packages (from scikit-learn>=0.16->hmmlearn==0.2.1) (1.7.3)\n",
            "Building wheels for collected packages: python-speech-features, hmmlearn\n",
            "  Building wheel for python-speech-features (setup.py) ... \u001b[?25l\u001b[?25hdone\n",
            "  Created wheel for python-speech-features: filename=python_speech_features-0.6-py3-none-any.whl size=5888 sha256=eed8f1146eb7596f5fe286b39a5fbe7c0d1be5816ac27513c87ddc109cdf690f\n",
            "  Stored in directory: /root/.cache/pip/wheels/b0/0e/94/28cd6afa3cd5998a63eef99fe31777acd7d758f59cf24839eb\n",
            "  Building wheel for hmmlearn (setup.py) ... \u001b[?25l\u001b[?25hdone\n",
            "  Created wheel for hmmlearn: filename=hmmlearn-0.2.1-cp37-cp37m-linux_x86_64.whl size=368851 sha256=3c37ccab6d8a9702cf242dedf766ea239067448a84d2cddde9304a0b8fecd5ee\n",
            "  Stored in directory: /root/.cache/pip/wheels/18/dd/3d/bd306b50cf55ee60f0d30c7142e5cbac9c27c43dbe748a9f89\n",
            "Successfully built python-speech-features hmmlearn\n",
            "Installing collected packages: python-speech-features, hmmlearn\n",
            "Successfully installed hmmlearn-0.2.1 python-speech-features-0.6\n",
            "Looking in indexes: https://pypi.org/simple, https://us-python.pkg.dev/colab-wheels/public/simple/\n",
            "Collecting noisereduce\n",
            "  Downloading noisereduce-2.0.1-py3-none-any.whl (15 kB)\n",
            "Requirement already satisfied: tqdm in /usr/local/lib/python3.7/dist-packages (from noisereduce) (4.64.1)\n",
            "Requirement already satisfied: matplotlib in /usr/local/lib/python3.7/dist-packages (from noisereduce) (3.2.2)\n",
            "Requirement already satisfied: scipy in /usr/local/lib/python3.7/dist-packages (from noisereduce) (1.7.3)\n",
            "Requirement already satisfied: librosa in /usr/local/lib/python3.7/dist-packages (from noisereduce) (0.8.1)\n",
            "Requirement already satisfied: numpy in /usr/local/lib/python3.7/dist-packages (from noisereduce) (1.21.6)\n",
            "Requirement already satisfied: soundfile>=0.10.2 in /usr/local/lib/python3.7/dist-packages (from librosa->noisereduce) (0.11.0)\n",
            "Requirement already satisfied: joblib>=0.14 in /usr/local/lib/python3.7/dist-packages (from librosa->noisereduce) (1.2.0)\n",
            "Requirement already satisfied: scikit-learn!=0.19.0,>=0.14.0 in /usr/local/lib/python3.7/dist-packages (from librosa->noisereduce) (1.0.2)\n",
            "Requirement already satisfied: resampy>=0.2.2 in /usr/local/lib/python3.7/dist-packages (from librosa->noisereduce) (0.4.2)\n",
            "Requirement already satisfied: decorator>=3.0.0 in /usr/local/lib/python3.7/dist-packages (from librosa->noisereduce) (4.4.2)\n",
            "Requirement already satisfied: packaging>=20.0 in /usr/local/lib/python3.7/dist-packages (from librosa->noisereduce) (21.3)\n",
            "Requirement already satisfied: numba>=0.43.0 in /usr/local/lib/python3.7/dist-packages (from librosa->noisereduce) (0.56.3)\n",
            "Requirement already satisfied: pooch>=1.0 in /usr/local/lib/python3.7/dist-packages (from librosa->noisereduce) (1.6.0)\n",
            "Requirement already satisfied: audioread>=2.0.0 in /usr/local/lib/python3.7/dist-packages (from librosa->noisereduce) (3.0.0)\n",
            "Requirement already satisfied: importlib-metadata in /usr/local/lib/python3.7/dist-packages (from numba>=0.43.0->librosa->noisereduce) (4.13.0)\n",
            "Requirement already satisfied: llvmlite<0.40,>=0.39.0dev0 in /usr/local/lib/python3.7/dist-packages (from numba>=0.43.0->librosa->noisereduce) (0.39.1)\n",
            "Requirement already satisfied: setuptools in /usr/local/lib/python3.7/dist-packages (from numba>=0.43.0->librosa->noisereduce) (57.4.0)\n",
            "Requirement already satisfied: pyparsing!=3.0.5,>=2.0.2 in /usr/local/lib/python3.7/dist-packages (from packaging>=20.0->librosa->noisereduce) (3.0.9)\n",
            "Requirement already satisfied: requests>=2.19.0 in /usr/local/lib/python3.7/dist-packages (from pooch>=1.0->librosa->noisereduce) (2.23.0)\n",
            "Requirement already satisfied: appdirs>=1.3.0 in /usr/local/lib/python3.7/dist-packages (from pooch>=1.0->librosa->noisereduce) (1.4.4)\n",
            "Requirement already satisfied: urllib3!=1.25.0,!=1.25.1,<1.26,>=1.21.1 in /usr/local/lib/python3.7/dist-packages (from requests>=2.19.0->pooch>=1.0->librosa->noisereduce) (1.24.3)\n",
            "Requirement already satisfied: idna<3,>=2.5 in /usr/local/lib/python3.7/dist-packages (from requests>=2.19.0->pooch>=1.0->librosa->noisereduce) (2.10)\n",
            "Requirement already satisfied: chardet<4,>=3.0.2 in /usr/local/lib/python3.7/dist-packages (from requests>=2.19.0->pooch>=1.0->librosa->noisereduce) (3.0.4)\n",
            "Requirement already satisfied: certifi>=2017.4.17 in /usr/local/lib/python3.7/dist-packages (from requests>=2.19.0->pooch>=1.0->librosa->noisereduce) (2022.9.24)\n",
            "Requirement already satisfied: threadpoolctl>=2.0.0 in /usr/local/lib/python3.7/dist-packages (from scikit-learn!=0.19.0,>=0.14.0->librosa->noisereduce) (3.1.0)\n",
            "Requirement already satisfied: cffi>=1.0 in /usr/local/lib/python3.7/dist-packages (from soundfile>=0.10.2->librosa->noisereduce) (1.15.1)\n",
            "Requirement already satisfied: pycparser in /usr/local/lib/python3.7/dist-packages (from cffi>=1.0->soundfile>=0.10.2->librosa->noisereduce) (2.21)\n",
            "Requirement already satisfied: zipp>=0.5 in /usr/local/lib/python3.7/dist-packages (from importlib-metadata->numba>=0.43.0->librosa->noisereduce) (3.10.0)\n",
            "Requirement already satisfied: typing-extensions>=3.6.4 in /usr/local/lib/python3.7/dist-packages (from importlib-metadata->numba>=0.43.0->librosa->noisereduce) (4.1.1)\n",
            "Requirement already satisfied: cycler>=0.10 in /usr/local/lib/python3.7/dist-packages (from matplotlib->noisereduce) (0.11.0)\n",
            "Requirement already satisfied: kiwisolver>=1.0.1 in /usr/local/lib/python3.7/dist-packages (from matplotlib->noisereduce) (1.4.4)\n",
            "Requirement already satisfied: python-dateutil>=2.1 in /usr/local/lib/python3.7/dist-packages (from matplotlib->noisereduce) (2.8.2)\n",
            "Requirement already satisfied: six>=1.5 in /usr/local/lib/python3.7/dist-packages (from python-dateutil>=2.1->matplotlib->noisereduce) (1.15.0)\n",
            "Installing collected packages: noisereduce\n",
            "Successfully installed noisereduce-2.0.1\n",
            "Looking in indexes: https://pypi.org/simple, https://us-python.pkg.dev/colab-wheels/public/simple/\n",
            "Collecting pyrubberband\n",
            "  Downloading pyrubberband-0.3.0.tar.gz (4.1 kB)\n",
            "Requirement already satisfied: six in /usr/local/lib/python3.7/dist-packages (from pyrubberband) (1.15.0)\n",
            "Collecting pysoundfile>=0.8.0\n",
            "  Downloading PySoundFile-0.9.0.post1-py2.py3-none-any.whl (24 kB)\n",
            "Requirement already satisfied: cffi>=0.6 in /usr/local/lib/python3.7/dist-packages (from pysoundfile>=0.8.0->pyrubberband) (1.15.1)\n",
            "Requirement already satisfied: pycparser in /usr/local/lib/python3.7/dist-packages (from cffi>=0.6->pysoundfile>=0.8.0->pyrubberband) (2.21)\n",
            "Building wheels for collected packages: pyrubberband\n",
            "  Building wheel for pyrubberband (setup.py) ... \u001b[?25l\u001b[?25hdone\n",
            "  Created wheel for pyrubberband: filename=pyrubberband-0.3.0-py3-none-any.whl size=4284 sha256=9ccfc92b663b28b72178bd77c6b3a3208c820525629aa59bb61ec6b1be08b9e9\n",
            "  Stored in directory: /root/.cache/pip/wheels/d7/e4/01/8590e5b5fb52cead6f5cc389449054af4423310e45ec34d74e\n",
            "Successfully built pyrubberband\n",
            "Installing collected packages: pysoundfile, pyrubberband\n",
            "Successfully installed pyrubberband-0.3.0 pysoundfile-0.9.0.post1\n"
          ]
        }
      ]
    },
    {
      "cell_type": "code",
      "source": [
        "!pip install numpy"
      ],
      "metadata": {
        "colab": {
          "base_uri": "https://localhost:8080/"
        },
        "id": "MQ4WODE7S9jP",
        "outputId": "9c0f64ca-7dea-411f-9d21-6d122192db4e"
      },
      "execution_count": 2,
      "outputs": [
        {
          "output_type": "stream",
          "name": "stdout",
          "text": [
            "Looking in indexes: https://pypi.org/simple, https://us-python.pkg.dev/colab-wheels/public/simple/\n",
            "Requirement already satisfied: numpy in /usr/local/lib/python3.7/dist-packages (1.21.6)\n"
          ]
        }
      ]
    },
    {
      "cell_type": "code",
      "source": [
        "!apt-get install rubberband-cli"
      ],
      "metadata": {
        "colab": {
          "base_uri": "https://localhost:8080/"
        },
        "id": "Lc1_757WlMvs",
        "outputId": "49cfc572-70c0-43ae-80d1-09eb4f05a729"
      },
      "execution_count": 3,
      "outputs": [
        {
          "output_type": "stream",
          "name": "stdout",
          "text": [
            "Reading package lists... Done\n",
            "Building dependency tree       \n",
            "Reading state information... Done\n",
            "The following package was automatically installed and is no longer required:\n",
            "  libnvidia-common-460\n",
            "Use 'apt autoremove' to remove it.\n",
            "The following NEW packages will be installed:\n",
            "  rubberband-cli\n",
            "0 upgraded, 1 newly installed, 0 to remove and 4 not upgraded.\n",
            "Need to get 81.5 kB of archives.\n",
            "After this operation, 237 kB of additional disk space will be used.\n",
            "Get:1 http://archive.ubuntu.com/ubuntu bionic/universe amd64 rubberband-cli amd64 1.8.1-7ubuntu2 [81.5 kB]\n",
            "Fetched 81.5 kB in 1s (58.1 kB/s)\n",
            "Selecting previously unselected package rubberband-cli.\n",
            "(Reading database ... 123942 files and directories currently installed.)\n",
            "Preparing to unpack .../rubberband-cli_1.8.1-7ubuntu2_amd64.deb ...\n",
            "Unpacking rubberband-cli (1.8.1-7ubuntu2) ...\n",
            "Setting up rubberband-cli (1.8.1-7ubuntu2) ...\n",
            "Processing triggers for man-db (2.8.3-2ubuntu0.1) ...\n"
          ]
        }
      ]
    },
    {
      "cell_type": "code",
      "source": [
        "!pip install librosa\n",
        "!pip install pydub"
      ],
      "metadata": {
        "colab": {
          "base_uri": "https://localhost:8080/"
        },
        "id": "9m_86wuylNrg",
        "outputId": "654de620-1be9-457f-a3f1-04e877714707"
      },
      "execution_count": 4,
      "outputs": [
        {
          "output_type": "stream",
          "name": "stdout",
          "text": [
            "Looking in indexes: https://pypi.org/simple, https://us-python.pkg.dev/colab-wheels/public/simple/\n",
            "Requirement already satisfied: librosa in /usr/local/lib/python3.7/dist-packages (0.8.1)\n",
            "Requirement already satisfied: numpy>=1.15.0 in /usr/local/lib/python3.7/dist-packages (from librosa) (1.21.6)\n",
            "Requirement already satisfied: resampy>=0.2.2 in /usr/local/lib/python3.7/dist-packages (from librosa) (0.4.2)\n",
            "Requirement already satisfied: decorator>=3.0.0 in /usr/local/lib/python3.7/dist-packages (from librosa) (4.4.2)\n",
            "Requirement already satisfied: joblib>=0.14 in /usr/local/lib/python3.7/dist-packages (from librosa) (1.2.0)\n",
            "Requirement already satisfied: scipy>=1.0.0 in /usr/local/lib/python3.7/dist-packages (from librosa) (1.7.3)\n",
            "Requirement already satisfied: soundfile>=0.10.2 in /usr/local/lib/python3.7/dist-packages (from librosa) (0.11.0)\n",
            "Requirement already satisfied: scikit-learn!=0.19.0,>=0.14.0 in /usr/local/lib/python3.7/dist-packages (from librosa) (1.0.2)\n",
            "Requirement already satisfied: numba>=0.43.0 in /usr/local/lib/python3.7/dist-packages (from librosa) (0.56.3)\n",
            "Requirement already satisfied: pooch>=1.0 in /usr/local/lib/python3.7/dist-packages (from librosa) (1.6.0)\n",
            "Requirement already satisfied: audioread>=2.0.0 in /usr/local/lib/python3.7/dist-packages (from librosa) (3.0.0)\n",
            "Requirement already satisfied: packaging>=20.0 in /usr/local/lib/python3.7/dist-packages (from librosa) (21.3)\n",
            "Requirement already satisfied: setuptools in /usr/local/lib/python3.7/dist-packages (from numba>=0.43.0->librosa) (57.4.0)\n",
            "Requirement already satisfied: importlib-metadata in /usr/local/lib/python3.7/dist-packages (from numba>=0.43.0->librosa) (4.13.0)\n",
            "Requirement already satisfied: llvmlite<0.40,>=0.39.0dev0 in /usr/local/lib/python3.7/dist-packages (from numba>=0.43.0->librosa) (0.39.1)\n",
            "Requirement already satisfied: pyparsing!=3.0.5,>=2.0.2 in /usr/local/lib/python3.7/dist-packages (from packaging>=20.0->librosa) (3.0.9)\n",
            "Requirement already satisfied: requests>=2.19.0 in /usr/local/lib/python3.7/dist-packages (from pooch>=1.0->librosa) (2.23.0)\n",
            "Requirement already satisfied: appdirs>=1.3.0 in /usr/local/lib/python3.7/dist-packages (from pooch>=1.0->librosa) (1.4.4)\n",
            "Requirement already satisfied: urllib3!=1.25.0,!=1.25.1,<1.26,>=1.21.1 in /usr/local/lib/python3.7/dist-packages (from requests>=2.19.0->pooch>=1.0->librosa) (1.24.3)\n",
            "Requirement already satisfied: chardet<4,>=3.0.2 in /usr/local/lib/python3.7/dist-packages (from requests>=2.19.0->pooch>=1.0->librosa) (3.0.4)\n",
            "Requirement already satisfied: certifi>=2017.4.17 in /usr/local/lib/python3.7/dist-packages (from requests>=2.19.0->pooch>=1.0->librosa) (2022.9.24)\n",
            "Requirement already satisfied: idna<3,>=2.5 in /usr/local/lib/python3.7/dist-packages (from requests>=2.19.0->pooch>=1.0->librosa) (2.10)\n",
            "Requirement already satisfied: threadpoolctl>=2.0.0 in /usr/local/lib/python3.7/dist-packages (from scikit-learn!=0.19.0,>=0.14.0->librosa) (3.1.0)\n",
            "Requirement already satisfied: cffi>=1.0 in /usr/local/lib/python3.7/dist-packages (from soundfile>=0.10.2->librosa) (1.15.1)\n",
            "Requirement already satisfied: pycparser in /usr/local/lib/python3.7/dist-packages (from cffi>=1.0->soundfile>=0.10.2->librosa) (2.21)\n",
            "Requirement already satisfied: typing-extensions>=3.6.4 in /usr/local/lib/python3.7/dist-packages (from importlib-metadata->numba>=0.43.0->librosa) (4.1.1)\n",
            "Requirement already satisfied: zipp>=0.5 in /usr/local/lib/python3.7/dist-packages (from importlib-metadata->numba>=0.43.0->librosa) (3.10.0)\n",
            "Looking in indexes: https://pypi.org/simple, https://us-python.pkg.dev/colab-wheels/public/simple/\n",
            "Collecting pydub\n",
            "  Downloading pydub-0.25.1-py2.py3-none-any.whl (32 kB)\n",
            "Installing collected packages: pydub\n",
            "Successfully installed pydub-0.25.1\n"
          ]
        }
      ]
    },
    {
      "cell_type": "markdown",
      "source": [
        "# 2.Mount Google Drive and import the necessary libraries"
      ],
      "metadata": {
        "id": "TR4TayFmEO66"
      }
    },
    {
      "cell_type": "code",
      "metadata": {
        "id": "WLE3wY9vco_-",
        "colab": {
          "base_uri": "https://localhost:8080/"
        },
        "outputId": "432d93a4-2743-4e2f-e6ee-b3133dd977f3"
      },
      "source": [
        "from google.colab import drive\n",
        "drive.mount('/content/drive')\n",
        "\n",
        "# Change working directory to be workshop folder\n",
        "import os\n",
        "os.chdir('/content/drive/My Drive/MTech in IS/5001Project/new_dataset')\n",
        "!ls\n"
      ],
      "execution_count": 5,
      "outputs": [
        {
          "output_type": "stream",
          "name": "stdout",
          "text": [
            "Mounted at /content/drive\n",
            "test  train\n"
          ]
        }
      ]
    },
    {
      "cell_type": "code",
      "metadata": {
        "scrolled": true,
        "id": "JQSpNEHNbpZo"
      },
      "source": [
        "# Import packages\n",
        "import numpy as np\n",
        "import noisereduce as nr\n",
        "from scipy.io import wavfile \n",
        "from pydub import AudioSegment\n",
        "from pydub import effects\n",
        "\n",
        "# For HMM model and audio feature extraction\n",
        "from hmmlearn import hmm\n",
        "from python_speech_features import mfcc\n",
        "\n",
        "import matplotlib.pyplot as plt\n",
        "%matplotlib inline\n"
      ],
      "execution_count": 6,
      "outputs": []
    },
    {
      "cell_type": "markdown",
      "source": [
        "# 3.Define HMM trainer"
      ],
      "metadata": {
        "id": "8aPI4B0IElHD"
      }
    },
    {
      "cell_type": "code",
      "metadata": {
        "id": "tPlYveN9bpZr"
      },
      "source": [
        "# Class to handle all HMM related processing\n",
        "class HMMTrainer(object):\n",
        "    def __init__(self, model_name='GaussianHMM', n_components=4, cov_type='diag', n_iter=1000):\n",
        "        self.model_name = model_name\n",
        "        self.n_components = n_components\n",
        "        self.cov_type = cov_type\n",
        "        self.n_iter = n_iter\n",
        "        self.models = []\n",
        "        self.model = hmm.GaussianHMM(n_components=self.n_components, covariance_type=self.cov_type, n_iter=self.n_iter)\n",
        "        self.model.fit(X)\n",
        "\n",
        "    # X is a 2D numpy array where each row is 13D\n",
        "    def train(self, X):\n",
        "        np.seterr(all='ignore')\n",
        "        self.models.append(self.model.fit(X))\n",
        "\n",
        "    # Run the model on input data\n",
        "    def get_score(self, input_data):\n",
        "        return self.model.score(input_data)\n",
        "    \n",
        "    def display_info(self):\n",
        "        print(\"transmat_\", self.model.transmat_)\n",
        "        print(\"n_features\", self.model.n_features)\n",
        "        \n",
        "    def predict_state(self, input_data):\n",
        "        return self.model.predict(input_data)\n"
      ],
      "execution_count": 7,
      "outputs": []
    },
    {
      "cell_type": "markdown",
      "source": [
        "# 4.Training model"
      ],
      "metadata": {
        "id": "mFqZNFMZEvwJ"
      }
    },
    {
      "cell_type": "code",
      "metadata": {
        "id": "V0j1zqwDbpZt",
        "colab": {
          "base_uri": "https://localhost:8080/"
        },
        "outputId": "ba33df5b-ece4-4d67-8fba-51d37bfa4b76"
      },
      "source": [
        "# Build an HMM model\n",
        "input_folder = \"train\"\n",
        "\n",
        "hmm_models = []\n",
        "# Parse the input directory\n",
        "for dirname in os.listdir(input_folder):\n",
        "    # Get the name of the subfolder \n",
        "    subfolder = input_folder + '/' + dirname\n",
        "\n",
        "    # Extract the class label\n",
        "    label = dirname\n",
        "\n",
        "    # Initialize variables\n",
        "    X = np.array([])\n",
        "    y_words = []\n",
        "\n",
        "    # Iterate through the audio files (leaving 1 file for testing in each class)\n",
        "    for filename in os.listdir(subfolder):\n",
        "        if not filename.endswith('.wav'):\n",
        "            continue\n",
        "        # Read the input file\n",
        "        filepath = subfolder + '/' + filename\n",
        "        print(\"Process the file: %s\" % filepath)\n",
        "        sampling_freq, audio = wavfile.read(filepath)\n",
        "\n",
        "        sampling_freq = sampling_freq/2.5\n",
        "        audio = np.mean(audio, axis=1)\n",
        "\n",
        "        # Extract MFCC features\n",
        "        mfcc_features = mfcc(audio, sampling_freq)\n",
        "        \n",
        "\n",
        "        # Append to the variable X\n",
        "        if len(X) == 0:\n",
        "            X = mfcc_features\n",
        "        else:\n",
        "            X = np.append(X, mfcc_features, axis=0)\n",
        "            \n",
        "    # Append the label\n",
        "    y_words.append(label)\n",
        "\n",
        "    # Train and save HMM model\n",
        "    hmm_trainer = HMMTrainer(n_components=4)\n",
        "    hmm_trainer.train(X)\n",
        "    hmm_models.append((hmm_trainer, label))\n",
        "    hmm_trainer = None\n"
      ],
      "execution_count": 15,
      "outputs": [
        {
          "output_type": "stream",
          "name": "stdout",
          "text": [
            "Process the file: train/metal/can10 (4).wav\n",
            "Process the file: train/metal/can10 (1).wav\n",
            "Process the file: train/metal/can10 (5).wav\n",
            "Process the file: train/metal/can10 (3).wav\n",
            "Process the file: train/metal/can10 (2).wav\n",
            "Process the file: train/metal/can20 (5).wav\n",
            "Process the file: train/metal/can20 (4).wav\n",
            "Process the file: train/metal/can20 (6).wav\n",
            "Process the file: train/metal/can20 (7).wav\n",
            "Process the file: train/metal/can20 (3).wav\n",
            "Process the file: train/metal/can20 (1).wav\n",
            "Process the file: train/metal/can20 (2).wav\n",
            "Process the file: train/carton/box30 (37).wav\n",
            "Process the file: train/carton/box30 (36).wav\n",
            "Process the file: train/carton/box30 (35).wav\n",
            "Process the file: train/carton/box30 (34).wav\n",
            "Process the file: train/carton/box30 (38).wav\n",
            "Process the file: train/carton/box30 (33).wav\n",
            "Process the file: train/carton/box30 (31).wav\n",
            "Process the file: train/carton/box30 (32).wav\n",
            "Process the file: train/carton/box30 (30).wav\n",
            "Process the file: train/carton/box10 (3).wav\n",
            "Process the file: train/carton/box10 (2).wav\n",
            "Process the file: train/carton/box10 (1).wav\n",
            "Process the file: train/carton/box10 (4).wav\n",
            "Process the file: train/carton/box10 (5).wav\n",
            "Process the file: train/carton/box10 (7).wav\n",
            "Process the file: train/carton/box10 (6).wav\n",
            "Process the file: train/carton/box10 (11).wav\n",
            "Process the file: train/carton/box10 (8).wav\n",
            "Process the file: train/carton/box10 (9).wav\n",
            "Process the file: train/carton/box10 (10).wav\n",
            "Process the file: train/carton/box10 (12).wav\n",
            "Process the file: train/carton/box20 (1).wav\n",
            "Process the file: train/carton/box20 (2).wav\n",
            "Process the file: train/carton/box20 (4).wav\n",
            "Process the file: train/carton/box20 (6).wav\n",
            "Process the file: train/carton/box20 (5).wav\n",
            "Process the file: train/carton/box20 (3).wav\n",
            "Process the file: train/carton/box20 (8).wav\n",
            "Process the file: train/carton/box20 (7).wav\n",
            "Process the file: train/carton/box20 (9).wav\n",
            "Process the file: train/carton/box20 (13).wav\n",
            "Process the file: train/carton/box20 (10).wav\n",
            "Process the file: train/carton/box20 (12).wav\n",
            "Process the file: train/carton/box20 (11).wav\n",
            "Process the file: train/carton/box20 (15).wav\n",
            "Process the file: train/carton/box20 (14).wav\n",
            "Process the file: train/plastic/bottle100 (11).wav\n",
            "Process the file: train/plastic/bottle100 (12).wav\n",
            "Process the file: train/plastic/bottle100 (8).wav\n",
            "Process the file: train/plastic/bottle100 (10).wav\n",
            "Process the file: train/plastic/bottle100 (7).wav\n",
            "Process the file: train/plastic/bottle100 (9).wav\n",
            "Process the file: train/plastic/bottle100 (6).wav\n",
            "Process the file: train/plastic/bottle100 (4).wav\n",
            "Process the file: train/plastic/bottle100 (5).wav\n",
            "Process the file: train/plastic/bottle100 (3).wav\n",
            "Process the file: train/plastic/bottle100 (1).wav\n",
            "Process the file: train/plastic/bottle100 (2).wav\n",
            "Process the file: train/plastic/bottle10 (4).wav\n",
            "Process the file: train/plastic/bottle10 (3).wav\n",
            "Process the file: train/plastic/bottle10 (7).wav\n",
            "Process the file: train/plastic/bottle10 (6).wav\n",
            "Process the file: train/plastic/bottle10 (5).wav\n",
            "Process the file: train/plastic/bottle10 (2).wav\n",
            "Process the file: train/plastic/bottle10 (1).wav\n",
            "Process the file: train/plastic/bottle20 (4).wav\n",
            "Process the file: train/plastic/bottle20 (5).wav\n",
            "Process the file: train/plastic/bottle20 (6).wav\n",
            "Process the file: train/plastic/bottle20 (1).wav\n",
            "Process the file: train/plastic/bottle20 (2).wav\n",
            "Process the file: train/plastic/bottle20 (3).wav\n",
            "Process the file: train/plastic/bottle30 (1).wav\n",
            "Process the file: train/plastic/bottle30 (4).wav\n",
            "Process the file: train/plastic/bottle30 (3).wav\n",
            "Process the file: train/plastic/bottle30 (2).wav\n",
            "Process the file: train/plastic/bottle30 (6).wav\n",
            "Process the file: train/plastic/bottle30 (8).wav\n",
            "Process the file: train/plastic/bottle30 (5).wav\n",
            "Process the file: train/plastic/bottle30 (7).wav\n",
            "Process the file: train/plastic/bottle30 (9).wav\n",
            "Process the file: train/plastic/bottle30 (10).wav\n"
          ]
        }
      ]
    },
    {
      "cell_type": "code",
      "metadata": {
        "id": "k191GRs9bpZ7",
        "colab": {
          "base_uri": "https://localhost:8080/"
        },
        "outputId": "254118a1-5152-45cc-a193-fda10193289b"
      },
      "source": [
        "# Perform single audio recognition\n",
        "# Results Output\n",
        "# 1: Select test audio file\n",
        "test_file_name = '/content/drive/My Drive/MTech in IS/5001Project/new_dataset/test/metal/can20 (10).wav'\n",
        "sampling_freq, audio = wavfile.read(test_file_name)\n",
        "\n",
        "sampling_freq = sampling_freq/2.5\n",
        "audio = np.mean(audio, axis=1)\n",
        "audio = nr.reduce_noise(y=audio, sr=sampling_freq, stationary=True)\n",
        "\n",
        "# 2: Extract MFCC features\n",
        "mfcc_features = mfcc(audio, sampling_freq)\n",
        "max_score = None\n",
        "output_label = None\n",
        "\n",
        "# 3: Iterate through all HMM models and \n",
        "#   pick the one with the highest score\n",
        "for item in hmm_models:\n",
        "    hmm_model, label = item\n",
        "    score = hmm_model.get_score(mfcc_features)\n",
        "    if max_score is None:\n",
        "        max_score = score\n",
        "        output_label = label\n",
        "    if score > max_score:\n",
        "        max_score = score\n",
        "        output_label = label\n",
        "print('File:%s,Pred:%s,Score:%.4f'%(test_file_name,output_label,max_score))\n"
      ],
      "execution_count": 16,
      "outputs": [
        {
          "output_type": "stream",
          "name": "stdout",
          "text": [
            "File:/content/drive/My Drive/MTech in IS/5001Project/new_dataset/test/metal/can20 (10).wav,Pred:metal,Score:-17519.3202\n"
          ]
        }
      ]
    },
    {
      "cell_type": "markdown",
      "source": [
        "# 5.Export and save models"
      ],
      "metadata": {
        "id": "c9OTqrq1ofrd"
      }
    },
    {
      "cell_type": "code",
      "source": [
        "import pickle"
      ],
      "metadata": {
        "id": "H4bE3zLq5otD"
      },
      "execution_count": 9,
      "outputs": []
    },
    {
      "cell_type": "code",
      "source": [
        "i = 0\n",
        "for item in hmm_models:\n",
        "    hmm_model, label = item\n",
        "    print(label)\n",
        "    modelname = 'model_2_' + str(i + 1) + \".pkl\"\n",
        "    with open(modelname, \"wb\") as f: pickle.dump(hmm_model, f)\n",
        "    print(\"saved %s\" %modelname)\n",
        "    i+=1"
      ],
      "metadata": {
        "id": "hlwAO0n4JHhz",
        "colab": {
          "base_uri": "https://localhost:8080/"
        },
        "outputId": "b1d135b1-3f86-4e11-f0f6-86b45ce02484"
      },
      "execution_count": 17,
      "outputs": [
        {
          "output_type": "stream",
          "name": "stdout",
          "text": [
            "metal\n",
            "saved model_2_1.pkl\n",
            "carton\n",
            "saved model_2_2.pkl\n",
            "plastic\n",
            "saved model_2_3.pkl\n"
          ]
        }
      ]
    },
    {
      "cell_type": "code",
      "source": [
        "fr = open('model_2_1.pkl','rb')\n",
        "model_1 = pickle.load(fr)\n",
        "fr = open('model_2_2.pkl','rb')\n",
        "model_2 = pickle.load(fr)\n",
        "fr = open('model_2_3.pkl','rb')\n",
        "model_3 = pickle.load(fr)\n",
        "\n",
        "reloaded_models = []\n",
        "reloaded_models.append((model_1, 'metal'))\n",
        "reloaded_models.append((model_2, 'carton'))\n",
        "reloaded_models.append((model_3, 'plastic'))"
      ],
      "metadata": {
        "id": "7vsGSseey9c2"
      },
      "execution_count": 19,
      "outputs": []
    },
    {
      "cell_type": "markdown",
      "source": [
        "# 6.test and get score"
      ],
      "metadata": {
        "id": "-apDevAbHwAQ"
      }
    },
    {
      "cell_type": "code",
      "source": [
        "# 1: Select test audio file\n",
        "test_file_name = '/content/drive/My Drive/MTech in IS/5001Project/dataset/test/metal/lankycan07.wav'\n",
        "sampling_freq, audio = wavfile.read(test_file_name)\n",
        "\n",
        "sampling_freq = sampling_freq/2.5\n",
        "audio = np.mean(audio, axis=1)\n",
        "\n",
        "# 2: Extract MFCC features\n",
        "mfcc_features = mfcc(audio, sampling_freq)\n",
        "max_score = None\n",
        "output_label = None\n",
        "\n",
        "# 3: Iterate through all HMM models and \n",
        "#   pick the one with the highest score\n",
        "for item in reloaded_models:\n",
        "    reloaded_model, label = item\n",
        "    score = reloaded_model.model.score(mfcc_features)\n",
        "    if max_score is None:\n",
        "        max_score = score\n",
        "        output_label = label\n",
        "    if score > max_score:\n",
        "        max_score = score\n",
        "        output_label = label\n",
        "print('File:%s,Pred:%s,Score:%.4f'%(test_file_name,output_label,max_score))"
      ],
      "metadata": {
        "colab": {
          "base_uri": "https://localhost:8080/"
        },
        "id": "g6W8gYFG0jT-",
        "outputId": "87b8fd6e-219e-4dbe-f204-41c726a2ae73"
      },
      "execution_count": 20,
      "outputs": [
        {
          "output_type": "stream",
          "name": "stdout",
          "text": [
            "File:/content/drive/My Drive/MTech in IS/5001Project/dataset/test/metal/lankycan07.wav,Pred:metal,Score:-11800.5472\n"
          ]
        }
      ]
    },
    {
      "cell_type": "code",
      "source": [
        "from glob import glob"
      ],
      "metadata": {
        "id": "gHJnNFnu8gJP"
      },
      "execution_count": 21,
      "outputs": []
    },
    {
      "cell_type": "code",
      "source": [
        "voice_path = '/content/drive/My Drive/MTech in IS/5001Project/new_dataset/test/metal'\n",
        "files = glob(voice_path+\"/*wav\")\n",
        "\n",
        "for file in files:\n",
        "  sampling_freq, audio = wavfile.read(file)\n",
        "\n",
        "  sampling_freq = sampling_freq/2.5\n",
        "  audio = np.mean(audio, axis=1)\n",
        "\n",
        "  mfcc_features = mfcc(audio, sampling_freq)\n",
        "  max_score = None\n",
        "  output_label = None\n",
        "\n",
        "  for item in reloaded_models:\n",
        "    reloaded_model, label = item\n",
        "    score = reloaded_model.model.score(mfcc_features)\n",
        "    if max_score is None:\n",
        "        max_score = score\n",
        "        output_label = label\n",
        "    if score > max_score:\n",
        "        max_score = score\n",
        "        output_label = label\n",
        "  print('File:%s,Pred:%s,Score:%.4f'%(file,output_label,max_score))"
      ],
      "metadata": {
        "colab": {
          "base_uri": "https://localhost:8080/"
        },
        "id": "xbbYT4Y39Zi3",
        "outputId": "ec7bf347-c22c-4de7-d393-e7029b7fd93c"
      },
      "execution_count": 22,
      "outputs": [
        {
          "output_type": "stream",
          "name": "stdout",
          "text": [
            "File:/content/drive/My Drive/MTech in IS/5001Project/new_dataset/test/metal/can10 (7).wav,Pred:metal,Score:-23543.8563\n",
            "File:/content/drive/My Drive/MTech in IS/5001Project/new_dataset/test/metal/can10 (6).wav,Pred:metal,Score:-21836.1685\n",
            "File:/content/drive/My Drive/MTech in IS/5001Project/new_dataset/test/metal/can20 (9).wav,Pred:metal,Score:-12113.1133\n",
            "File:/content/drive/My Drive/MTech in IS/5001Project/new_dataset/test/metal/can20 (8).wav,Pred:metal,Score:-12169.5392\n",
            "File:/content/drive/My Drive/MTech in IS/5001Project/new_dataset/test/metal/can20 (10).wav,Pred:metal,Score:-11521.1503\n"
          ]
        }
      ]
    },
    {
      "cell_type": "code",
      "source": [
        "voice_path = '/content/drive/My Drive/MTech in IS/5001Project/new_dataset/test/plastic'\n",
        "files = glob(voice_path+\"/*wav\")\n",
        "\n",
        "for file in files:\n",
        "  sampling_freq, audio = wavfile.read(file)\n",
        "\n",
        "  sampling_freq = sampling_freq/2.5\n",
        "  audio = np.mean(audio, axis=1)\n",
        "\n",
        "  mfcc_features = mfcc(audio, sampling_freq)\n",
        "  max_score = None\n",
        "  output_label = None\n",
        "\n",
        "  for item in reloaded_models:\n",
        "    reloaded_model, label = item\n",
        "    score = reloaded_model.model.score(mfcc_features)\n",
        "    if max_score is None:\n",
        "        max_score = score\n",
        "        output_label = label\n",
        "    if score > max_score:\n",
        "        max_score = score\n",
        "        output_label = label\n",
        "  print('File:%s,Pred:%s,Score:%.4f'%(file,output_label,max_score))"
      ],
      "metadata": {
        "colab": {
          "base_uri": "https://localhost:8080/"
        },
        "id": "Lkt0s-cU_I_U",
        "outputId": "f9d47522-d56d-43c5-8341-ef90edacd3bd"
      },
      "execution_count": 23,
      "outputs": [
        {
          "output_type": "stream",
          "name": "stdout",
          "text": [
            "File:/content/drive/My Drive/MTech in IS/5001Project/new_dataset/test/plastic/bottle100 (12).wav,Pred:plastic,Score:-11453.5069\n",
            "File:/content/drive/My Drive/MTech in IS/5001Project/new_dataset/test/plastic/bottle100 (13).wav,Pred:plastic,Score:-11093.6004\n",
            "File:/content/drive/My Drive/MTech in IS/5001Project/new_dataset/test/plastic/bottle100 (15).wav,Pred:plastic,Score:-14221.2998\n",
            "File:/content/drive/My Drive/MTech in IS/5001Project/new_dataset/test/plastic/bottle100 (16).wav,Pred:plastic,Score:-14321.6866\n",
            "File:/content/drive/My Drive/MTech in IS/5001Project/new_dataset/test/plastic/bottle100 (14).wav,Pred:plastic,Score:-11266.0491\n",
            "File:/content/drive/My Drive/MTech in IS/5001Project/new_dataset/test/plastic/bottle10 (8).wav,Pred:plastic,Score:-18067.0363\n",
            "File:/content/drive/My Drive/MTech in IS/5001Project/new_dataset/test/plastic/bottle10 (9).wav,Pred:plastic,Score:-17005.0078\n",
            "File:/content/drive/My Drive/MTech in IS/5001Project/new_dataset/test/plastic/bottle10 (10).wav,Pred:plastic,Score:-21673.9608\n",
            "File:/content/drive/My Drive/MTech in IS/5001Project/new_dataset/test/plastic/bottle20 (8).wav,Pred:carton,Score:-18506.0370\n",
            "File:/content/drive/My Drive/MTech in IS/5001Project/new_dataset/test/plastic/bottle20 (7).wav,Pred:metal,Score:-12074.9722\n",
            "File:/content/drive/My Drive/MTech in IS/5001Project/new_dataset/test/plastic/bottle20 (9).wav,Pred:carton,Score:-14301.9084\n",
            "File:/content/drive/My Drive/MTech in IS/5001Project/new_dataset/test/plastic/bottle30 (11).wav,Pred:plastic,Score:-8432.2654\n",
            "File:/content/drive/My Drive/MTech in IS/5001Project/new_dataset/test/plastic/bottle30 (12).wav,Pred:plastic,Score:-17267.1153\n",
            "File:/content/drive/My Drive/MTech in IS/5001Project/new_dataset/test/plastic/bottle30 (13).wav,Pred:plastic,Score:-13633.7767\n",
            "File:/content/drive/My Drive/MTech in IS/5001Project/new_dataset/test/plastic/bottle30 (14).wav,Pred:plastic,Score:-11068.9796\n"
          ]
        }
      ]
    },
    {
      "cell_type": "code",
      "source": [
        "voice_path = '/content/drive/My Drive/MTech in IS/5001Project/new_dataset/test/carton'\n",
        "files = glob(voice_path+\"/*wav\")\n",
        "\n",
        "for file in files:\n",
        "  sampling_freq, audio = wavfile.read(file)\n",
        "\n",
        "  sampling_freq = sampling_freq/2.5\n",
        "  audio = np.mean(audio, axis=1)\n",
        "\n",
        "  mfcc_features = mfcc(audio, sampling_freq)\n",
        "  max_score = None\n",
        "  output_label = None\n",
        "\n",
        "  for item in reloaded_models:\n",
        "    reloaded_model, label = item\n",
        "    score = reloaded_model.model.score(mfcc_features)\n",
        "    if max_score is None:\n",
        "        max_score = score\n",
        "        output_label = label\n",
        "    if score > max_score:\n",
        "        max_score = score\n",
        "        output_label = label\n",
        "  print('File:%s,Pred:%s,Score:%.4f'%(file,output_label,max_score))"
      ],
      "metadata": {
        "colab": {
          "base_uri": "https://localhost:8080/"
        },
        "id": "DyAWfjhz_efV",
        "outputId": "08c6409c-7194-4096-d424-68425f4c19b1"
      },
      "execution_count": 24,
      "outputs": [
        {
          "output_type": "stream",
          "name": "stdout",
          "text": [
            "File:/content/drive/My Drive/MTech in IS/5001Project/new_dataset/test/carton/box30 (41).wav,Pred:carton,Score:-10838.8001\n",
            "File:/content/drive/My Drive/MTech in IS/5001Project/new_dataset/test/carton/box30 (40).wav,Pred:carton,Score:-12525.5801\n",
            "File:/content/drive/My Drive/MTech in IS/5001Project/new_dataset/test/carton/box30 (39).wav,Pred:carton,Score:-12370.4425\n",
            "File:/content/drive/My Drive/MTech in IS/5001Project/new_dataset/test/carton/box10 (13).wav,Pred:carton,Score:-5629.4413\n",
            "File:/content/drive/My Drive/MTech in IS/5001Project/new_dataset/test/carton/box10 (15).wav,Pred:carton,Score:-7694.5355\n",
            "File:/content/drive/My Drive/MTech in IS/5001Project/new_dataset/test/carton/box10 (14).wav,Pred:carton,Score:-7737.0563\n",
            "File:/content/drive/My Drive/MTech in IS/5001Project/new_dataset/test/carton/box10 (16).wav,Pred:carton,Score:-7941.4240\n",
            "File:/content/drive/My Drive/MTech in IS/5001Project/new_dataset/test/carton/box20 (17).wav,Pred:carton,Score:-14015.7592\n",
            "File:/content/drive/My Drive/MTech in IS/5001Project/new_dataset/test/carton/box20 (16).wav,Pred:carton,Score:-17288.7511\n",
            "File:/content/drive/My Drive/MTech in IS/5001Project/new_dataset/test/carton/box20 (19).wav,Pred:carton,Score:-14711.0969\n",
            "File:/content/drive/My Drive/MTech in IS/5001Project/new_dataset/test/carton/box20 (20).wav,Pred:carton,Score:-11402.7426\n",
            "File:/content/drive/My Drive/MTech in IS/5001Project/new_dataset/test/carton/box20 (18).wav,Pred:carton,Score:-14425.3001\n"
          ]
        }
      ]
    }
  ]
}