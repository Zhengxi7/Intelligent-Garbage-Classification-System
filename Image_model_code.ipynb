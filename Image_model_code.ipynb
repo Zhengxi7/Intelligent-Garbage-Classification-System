{
  "nbformat": 4,
  "nbformat_minor": 0,
  "metadata": {
    "colab": {
      "provenance": []
    },
    "kernelspec": {
      "name": "python3",
      "display_name": "Python 3"
    },
    "language_info": {
      "name": "python"
    }
  },
  "cells": [
    {
      "cell_type": "markdown",
      "source": [
        "# 1.Mount Google Drive"
      ],
      "metadata": {
        "id": "QwBARpOP3eGc"
      }
    },
    {
      "cell_type": "code",
      "execution_count": null,
      "metadata": {
        "colab": {
          "base_uri": "https://localhost:8080/"
        },
        "id": "nd6iNMRH2xlv",
        "outputId": "1f3e3a8d-bdbc-4142-9f10-d6a81683e378"
      },
      "outputs": [
        {
          "output_type": "stream",
          "name": "stdout",
          "text": [
            "Mounted at /content/gdrive\n"
          ]
        }
      ],
      "source": [
        "from google.colab import drive\n",
        "drive.mount('/content/gdrive')\n",
        "\n",
        "import os\n",
        "os.chdir('/content/gdrive/My Drive/MTech in IS/5002Project/Garbage Classification')"
      ]
    },
    {
      "cell_type": "markdown",
      "source": [
        "# 2.Import the necessary libraries"
      ],
      "metadata": {
        "id": "EchojWTA39IR"
      }
    },
    {
      "cell_type": "code",
      "source": [
        "import matplotlib\n",
        "import sklearn\n",
        "import numpy as np\n",
        "import pandas as pd\n",
        "import sklearn.metrics as metrics\n",
        "import matplotlib.pyplot as plt\n",
        "import tensorflow as tf\n",
        "\n",
        "\n",
        "from tensorflow.keras.callbacks import ModelCheckpoint,CSVLogger,LearningRateScheduler,ReduceLROnPlateau\n",
        "from tensorflow.keras.models import Sequential\n",
        "from tensorflow.keras.models import Model\n",
        "from tensorflow.keras.layers import Input\n",
        "from tensorflow.keras.layers import Dense\n",
        "from tensorflow.keras.layers import Dropout\n",
        "from tensorflow.keras.layers import Flatten\n",
        "from tensorflow.keras.layers import Conv2D\n",
        "from tensorflow.keras.layers import MaxPooling2D\n",
        "from tensorflow.keras.layers import AveragePooling2D\n",
        "from tensorflow.keras.layers import BatchNormalization\n",
        "from tensorflow.keras.regularizers import l2\n",
        "from tensorflow.keras.layers import Activation\n",
        "from tensorflow.keras.layers import add\n",
        "from tensorflow.keras.utils import to_categorical\n",
        "from tensorflow.keras.utils import plot_model\n",
        "from tensorflow.keras import optimizers\n",
        "from keras.preprocessing.image import ImageDataGenerator\n",
        "from keras.models import load_model\n",
        "\n",
        "print(\"Versions of key libraries\")\n",
        "print(\"---\")\n",
        "print(\"tensorflow: \", tf.__version__)\n",
        "print(\"numpy:      \", np.__version__)\n",
        "print(\"matplotlib: \", matplotlib.__version__)\n",
        "print(\"sklearn:    \", sklearn.__version__)"
      ],
      "metadata": {
        "colab": {
          "base_uri": "https://localhost:8080/"
        },
        "id": "xwkcEiTL38VQ",
        "outputId": "ba24e4b8-73d5-442e-e677-4359f39ddc66"
      },
      "execution_count": null,
      "outputs": [
        {
          "output_type": "stream",
          "name": "stdout",
          "text": [
            "Versions of key libraries\n",
            "---\n",
            "tensorflow:  2.9.2\n",
            "numpy:       1.21.6\n",
            "matplotlib:  3.2.2\n",
            "sklearn:     1.0.2\n"
          ]
        }
      ]
    },
    {
      "cell_type": "markdown",
      "source": [
        "# 3.Prepare data for training and testing"
      ],
      "metadata": {
        "id": "hnQpC87p6bj0"
      }
    },
    {
      "cell_type": "code",
      "source": [
        "batch_size = 16\n",
        "epochs = 100\n",
        "\n",
        "train_datagen = ImageDataGenerator(\n",
        "    rescale=1.0 / 255, horizontal_flip=True, zoom_range=0.1, shear_range=0.2, width_shift_range=0.1,\n",
        "    height_shift_range=0.1, rotation_range=20, vertical_flip=False, validation_split=0.2\n",
        ")\n",
        "\n",
        "test_datagen = ImageDataGenerator(\n",
        "    rescale=1.0 / 255\n",
        ")\n",
        "\n",
        "train_generator = train_datagen.flow_from_directory(\n",
        "    directory='/content/gdrive/My Drive/MTech in IS/5002Project/Garbage Classification/5class/train',\n",
        "    target_size = (224,224),\n",
        "    class_mode=\"categorical\", batch_size=batch_size, shuffle=True, subset='training' \n",
        ")\n",
        "\n",
        "validation_generator = train_datagen.flow_from_directory(\n",
        "    directory='/content/gdrive/My Drive/MTech in IS/5002Project/Garbage Classification/5class/train', \n",
        "    target_size = (224,224),\n",
        "    class_mode=\"categorical\", batch_size=batch_size, shuffle=True, subset='validation'\n",
        ")\n",
        "\n",
        "test_generator = test_datagen.flow_from_directory(\n",
        "    directory='/content/gdrive/My Drive/MTech in IS/5002Project/Garbage Classification/5class/test',\n",
        "    target_size = (224,224),\n",
        "    class_mode=\"categorical\", batch_size=batch_size, shuffle=False\n",
        ")\n",
        "\n",
        "labels = (train_generator.class_indices)\n",
        "labels = dict((v,k) for k,v in labels.items())"
      ],
      "metadata": {
        "colab": {
          "base_uri": "https://localhost:8080/"
        },
        "id": "g6KqpXsh6aGt",
        "outputId": "df832d7a-9966-4cbf-9ba5-be9ef487e7a7"
      },
      "execution_count": null,
      "outputs": [
        {
          "output_type": "stream",
          "name": "stdout",
          "text": [
            "Found 1318 images belonging to 5 classes.\n",
            "Found 327 images belonging to 5 classes.\n",
            "Found 413 images belonging to 5 classes.\n"
          ]
        }
      ]
    },
    {
      "cell_type": "code",
      "source": [
        "len(train_generator)"
      ],
      "metadata": {
        "colab": {
          "base_uri": "https://localhost:8080/"
        },
        "id": "VEThLQKmO7ee",
        "outputId": "696d7360-9ed5-4884-8df3-24035c086cf7"
      },
      "execution_count": null,
      "outputs": [
        {
          "output_type": "execute_result",
          "data": {
            "text/plain": [
              "83"
            ]
          },
          "metadata": {},
          "execution_count": 4
        }
      ]
    },
    {
      "cell_type": "code",
      "source": [
        "len(validation_generator)"
      ],
      "metadata": {
        "colab": {
          "base_uri": "https://localhost:8080/"
        },
        "id": "-PNCogI8PgQ7",
        "outputId": "c5cde9dc-98ce-47b3-cc6b-177437039557"
      },
      "execution_count": null,
      "outputs": [
        {
          "output_type": "execute_result",
          "data": {
            "text/plain": [
              "21"
            ]
          },
          "metadata": {},
          "execution_count": 5
        }
      ]
    },
    {
      "cell_type": "code",
      "source": [
        "print(labels)"
      ],
      "metadata": {
        "colab": {
          "base_uri": "https://localhost:8080/"
        },
        "id": "wHfHiOZdYKjk",
        "outputId": "25a3687c-bbfa-4d1c-b057-4aab4bd65f92"
      },
      "execution_count": null,
      "outputs": [
        {
          "output_type": "stream",
          "name": "stdout",
          "text": [
            "{0: 'Carton', 1: 'Glass', 2: 'Metal', 3: 'Plastic', 4: 'Trash'}\n"
          ]
        }
      ]
    },
    {
      "cell_type": "markdown",
      "source": [
        "# 4.1 define deep learning model(self designed)\n",
        "\n",
        "\n"
      ],
      "metadata": {
        "id": "sDvuOd6FH_cw"
      }
    },
    {
      "cell_type": "code",
      "source": [
        "optmz = optimizers.Nadam(lr = 0.0005)\n",
        "modelname = '5class'\n",
        "\n",
        "def createModel():\n",
        "   model   = Sequential() \n",
        "   model.add(Conv2D(16,(3,3), \n",
        "        input_shape=(224,224,3),  \n",
        "        padding='same', \n",
        "        activation='relu',\n",
        "        kernel_initializer='he_normal',\n",
        "        kernel_regularizer=l2(1e-4)))\n",
        "   model.add(BatchNormalization())\n",
        "   model.add(MaxPooling2D(pool_size=(2,2)))\n",
        "   model.add(Conv2D(16,(3,3),\n",
        "        padding='same', \n",
        "        activation='relu',\n",
        "        kernel_initializer='he_normal',\n",
        "        kernel_regularizer=l2(1e-4)))\n",
        "   model.add(BatchNormalization())\n",
        "   model.add(MaxPooling2D(pool_size=(2,2)))\n",
        "   model.add(Conv2D(32,(3,3),\n",
        "        padding='same', \n",
        "        activation='relu',\n",
        "        kernel_initializer='he_normal',\n",
        "        kernel_regularizer=l2(1e-4)))\n",
        "   model.add(BatchNormalization())\n",
        "   model.add(MaxPooling2D(pool_size=(4,4)))\n",
        "   model.add(Conv2D(64,(3,3),\n",
        "        padding='same', \n",
        "        activation='relu',\n",
        "        kernel_initializer='he_normal',\n",
        "        kernel_regularizer=l2(1e-4)))\n",
        "   model.add(BatchNormalization())\n",
        "   model.add(MaxPooling2D(pool_size=(2,2)))\n",
        "   model.add(Flatten())\n",
        "   model.add(Dropout(0.4))\n",
        "   model.add(Dense(512,activation='relu',kernel_initializer='he_normal'))\n",
        "   model.add(Dense(64,activation='relu',kernel_initializer='he_normal'))\n",
        "   model.add(Dense(5,activation='softmax',kernel_initializer='he_normal'))\n",
        "   model.compile(loss='categorical_crossentropy',  \n",
        "          optimizer=optmz,  \n",
        "          metrics=['accuracy'])\n",
        "   return model\n",
        "\n",
        "model = createModel()\n",
        "model.summary()"
      ],
      "metadata": {
        "colab": {
          "base_uri": "https://localhost:8080/"
        },
        "id": "Aurda-TYHjUb",
        "outputId": "f6eebada-5aa2-49d8-84cb-5493f6a08e53"
      },
      "execution_count": null,
      "outputs": [
        {
          "output_type": "stream",
          "name": "stderr",
          "text": [
            "/usr/local/lib/python3.7/dist-packages/keras/optimizers/optimizer_v2/nadam.py:78: UserWarning: The `lr` argument is deprecated, use `learning_rate` instead.\n",
            "  super(Nadam, self).__init__(name, **kwargs)\n"
          ]
        },
        {
          "output_type": "stream",
          "name": "stdout",
          "text": [
            "Model: \"sequential\"\n",
            "_________________________________________________________________\n",
            " Layer (type)                Output Shape              Param #   \n",
            "=================================================================\n",
            " conv2d (Conv2D)             (None, 224, 224, 16)      448       \n",
            "                                                                 \n",
            " batch_normalization (BatchN  (None, 224, 224, 16)     64        \n",
            " ormalization)                                                   \n",
            "                                                                 \n",
            " max_pooling2d (MaxPooling2D  (None, 112, 112, 16)     0         \n",
            " )                                                               \n",
            "                                                                 \n",
            " conv2d_1 (Conv2D)           (None, 112, 112, 16)      2320      \n",
            "                                                                 \n",
            " batch_normalization_1 (Batc  (None, 112, 112, 16)     64        \n",
            " hNormalization)                                                 \n",
            "                                                                 \n",
            " max_pooling2d_1 (MaxPooling  (None, 56, 56, 16)       0         \n",
            " 2D)                                                             \n",
            "                                                                 \n",
            " conv2d_2 (Conv2D)           (None, 56, 56, 32)        4640      \n",
            "                                                                 \n",
            " batch_normalization_2 (Batc  (None, 56, 56, 32)       128       \n",
            " hNormalization)                                                 \n",
            "                                                                 \n",
            " max_pooling2d_2 (MaxPooling  (None, 14, 14, 32)       0         \n",
            " 2D)                                                             \n",
            "                                                                 \n",
            " conv2d_3 (Conv2D)           (None, 14, 14, 64)        18496     \n",
            "                                                                 \n",
            " batch_normalization_3 (Batc  (None, 14, 14, 64)       256       \n",
            " hNormalization)                                                 \n",
            "                                                                 \n",
            " max_pooling2d_3 (MaxPooling  (None, 7, 7, 64)         0         \n",
            " 2D)                                                             \n",
            "                                                                 \n",
            " flatten (Flatten)           (None, 3136)              0         \n",
            "                                                                 \n",
            " dropout (Dropout)           (None, 3136)              0         \n",
            "                                                                 \n",
            " dense (Dense)               (None, 512)               1606144   \n",
            "                                                                 \n",
            " dense_1 (Dense)             (None, 64)                32832     \n",
            "                                                                 \n",
            " dense_2 (Dense)             (None, 5)                 325       \n",
            "                                                                 \n",
            "=================================================================\n",
            "Total params: 1,665,717\n",
            "Trainable params: 1,665,461\n",
            "Non-trainable params: 256\n",
            "_________________________________________________________________\n"
          ]
        }
      ]
    },
    {
      "cell_type": "markdown",
      "source": [
        "# 4.2 mobilenetv2 based(finally adopted)"
      ],
      "metadata": {
        "id": "02LvbQFqo7Mo"
      }
    },
    {
      "cell_type": "code",
      "source": [
        "optmz = optimizers.Nadam(lr = 0.0005)\n",
        "modelname = '5class_mob'\n",
        "\n",
        "base_model = tf.keras.applications.MobileNetV2(input_shape=(224,224,3),\n",
        "                        include_top=False)\n",
        "base_model.trainable = False\n",
        "\n",
        "model = tf.keras.Sequential([\n",
        "    base_model,\n",
        "    tf.keras.layers.AveragePooling2D(pool_size=(7,7)),\n",
        "    tf.keras.layers.Dropout(0.4),\n",
        "    tf.keras.layers.Flatten(),\n",
        "    tf.keras.layers.Dense(128,activation='relu',kernel_initializer='he_normal'),\n",
        "    tf.keras.layers.Dense(5,activation='softmax',kernel_initializer='he_normal')\n",
        "])\n",
        "\n",
        "model.compile(loss='categorical_crossentropy',  \n",
        "       optimizer=optmz,  \n",
        "       metrics=['accuracy'])\n",
        "\n",
        "model.summary()"
      ],
      "metadata": {
        "colab": {
          "base_uri": "https://localhost:8080/"
        },
        "id": "thEBPfbrpEVc",
        "outputId": "a71cd076-89f5-42a7-8dee-e95d31be151b"
      },
      "execution_count": null,
      "outputs": [
        {
          "output_type": "stream",
          "name": "stdout",
          "text": [
            "Model: \"sequential_1\"\n",
            "_________________________________________________________________\n",
            " Layer (type)                Output Shape              Param #   \n",
            "=================================================================\n",
            " mobilenetv2_1.00_224 (Funct  (None, 7, 7, 1280)       2257984   \n",
            " ional)                                                          \n",
            "                                                                 \n",
            " average_pooling2d_1 (Averag  (None, 1, 1, 1280)       0         \n",
            " ePooling2D)                                                     \n",
            "                                                                 \n",
            " dropout_1 (Dropout)         (None, 1, 1, 1280)        0         \n",
            "                                                                 \n",
            " flatten_1 (Flatten)         (None, 1280)              0         \n",
            "                                                                 \n",
            " dense_2 (Dense)             (None, 128)               163968    \n",
            "                                                                 \n",
            " dense_3 (Dense)             (None, 5)                 645       \n",
            "                                                                 \n",
            "=================================================================\n",
            "Total params: 2,422,597\n",
            "Trainable params: 164,613\n",
            "Non-trainable params: 2,257,984\n",
            "_________________________________________________________________\n"
          ]
        }
      ]
    },
    {
      "cell_type": "markdown",
      "source": [
        "# 5.Create the callbacks to be applied during training"
      ],
      "metadata": {
        "id": "TUHasossQBNB"
      }
    },
    {
      "cell_type": "code",
      "source": [
        "def lrSchedule(epoch):\n",
        "    lr = 0.0005\n",
        "           \n",
        "    if epoch > 90:\n",
        "        lr *= 1e-3       \n",
        "    elif epoch > 70:\n",
        "        lr *= 1e-2     \n",
        "    elif epoch > 50:\n",
        "        lr *= 1e-1\n",
        "        \n",
        "    print('Learning rate: ', lr)\n",
        "    return lr\n",
        "\n",
        "LRScheduler = LearningRateScheduler(lrSchedule)\n",
        "\n",
        "folderpath = '/content/gdrive/My Drive/MTech in IS/5002Project/Garbage Classification/colab/'\n",
        "filepath = folderpath + modelname + \".h5\"\n",
        "checkpoint = ModelCheckpoint(filepath, \n",
        "               monitor='val_accuracy', \n",
        "               verbose=0, \n",
        "               save_best_only=True, \n",
        "               mode='max')\n",
        "\n",
        "csv_logger      = CSVLogger(folderpath+modelname +'.csv')                       \n",
        "callbacks_list  = [checkpoint,csv_logger,LRScheduler]                                       \n",
        "\n",
        "print(\"Callbacks created:\")\n",
        "print(callbacks_list[0])\n",
        "print(callbacks_list[1])\n",
        "print(callbacks_list[2])\n",
        "\n",
        "print('')\n",
        "print(\"Path to model:\", filepath)\n",
        "print(\"Path to log:  \", folderpath+modelname+'.csv')"
      ],
      "metadata": {
        "colab": {
          "base_uri": "https://localhost:8080/"
        },
        "id": "OvPJXCVGQAKM",
        "outputId": "2c72aa63-002f-4c4f-fbde-2dc2f0e6b5e9"
      },
      "execution_count": null,
      "outputs": [
        {
          "output_type": "stream",
          "name": "stdout",
          "text": [
            "Callbacks created:\n",
            "<keras.callbacks.ModelCheckpoint object at 0x7fc0cbf02ed0>\n",
            "<keras.callbacks.CSVLogger object at 0x7fc0cbf02fd0>\n",
            "<keras.callbacks.LearningRateScheduler object at 0x7fc0cbf02f50>\n",
            "\n",
            "Path to model: /content/gdrive/My Drive/MTech in IS/5002Project/Garbage Classification/colab/5class_mob.h5\n",
            "Path to log:   /content/gdrive/My Drive/MTech in IS/5002Project/Garbage Classification/colab/5class_mob.csv\n"
          ]
        }
      ]
    },
    {
      "cell_type": "code",
      "source": [
        "plotpath  = folderpath+modelname+'_plot.png'\n",
        "plot_model(model, \n",
        "           to_file=plotpath, \n",
        "           show_shapes=True, \n",
        "           show_layer_names=False,\n",
        "           rankdir='TB')\n",
        "\n",
        "print(\"Path to plot:\", plotpath)"
      ],
      "metadata": {
        "colab": {
          "base_uri": "https://localhost:8080/"
        },
        "id": "LZcINCtp756t",
        "outputId": "888fde6c-c92b-4a1b-b84f-e3bf25495e48"
      },
      "execution_count": null,
      "outputs": [
        {
          "output_type": "stream",
          "name": "stdout",
          "text": [
            "Path to plot: /content/gdrive/My Drive/MTech in IS/5002Project/Garbage Classification/colab/5class_mob_plot.png\n"
          ]
        }
      ]
    },
    {
      "cell_type": "markdown",
      "source": [
        "# 6.Train the deep learning model with image augmentation"
      ],
      "metadata": {
        "id": "YSiZSYKUys75"
      }
    },
    {
      "cell_type": "code",
      "source": [
        "model_history = model.fit_generator(\n",
        "    generator=train_generator,\n",
        "    steps_per_epoch=len(train_generator),\n",
        "    epochs=epochs,\n",
        "    shuffle=True,\n",
        "    validation_data=validation_generator,\n",
        "    validation_steps=len(validation_generator),\n",
        "    callbacks=callbacks_list\n",
        ")"
      ],
      "metadata": {
        "colab": {
          "base_uri": "https://localhost:8080/"
        },
        "id": "wjlIFK9XbDfn",
        "outputId": "f8d50ff7-fc9f-4046-f8d8-d2304ace486c"
      },
      "execution_count": null,
      "outputs": [
        {
          "output_type": "stream",
          "name": "stderr",
          "text": [
            "/usr/local/lib/python3.7/dist-packages/ipykernel_launcher.py:8: UserWarning: `Model.fit_generator` is deprecated and will be removed in a future version. Please use `Model.fit`, which supports generators.\n",
            "  \n"
          ]
        },
        {
          "output_type": "stream",
          "name": "stdout",
          "text": [
            "Learning rate:  0.0005\n",
            "Epoch 1/100\n",
            "83/83 [==============================] - 491s 6s/step - loss: 1.0022 - accuracy: 0.5994 - val_loss: 0.6169 - val_accuracy: 0.7737 - lr: 5.0000e-04\n",
            "Learning rate:  0.0005\n",
            "Epoch 2/100\n",
            "83/83 [==============================] - 22s 266ms/step - loss: 0.5408 - accuracy: 0.8096 - val_loss: 0.6041 - val_accuracy: 0.7920 - lr: 5.0000e-04\n",
            "Learning rate:  0.0005\n",
            "Epoch 3/100\n",
            "83/83 [==============================] - 22s 268ms/step - loss: 0.4318 - accuracy: 0.8384 - val_loss: 0.4389 - val_accuracy: 0.8502 - lr: 5.0000e-04\n",
            "Learning rate:  0.0005\n",
            "Epoch 4/100\n",
            "83/83 [==============================] - 22s 261ms/step - loss: 0.3759 - accuracy: 0.8619 - val_loss: 0.4336 - val_accuracy: 0.8318 - lr: 5.0000e-04\n",
            "Learning rate:  0.0005\n",
            "Epoch 5/100\n",
            "83/83 [==============================] - 23s 279ms/step - loss: 0.3173 - accuracy: 0.8847 - val_loss: 0.4051 - val_accuracy: 0.8654 - lr: 5.0000e-04\n",
            "Learning rate:  0.0005\n",
            "Epoch 6/100\n",
            "83/83 [==============================] - 22s 265ms/step - loss: 0.3081 - accuracy: 0.8809 - val_loss: 0.3166 - val_accuracy: 0.8807 - lr: 5.0000e-04\n",
            "Learning rate:  0.0005\n",
            "Epoch 7/100\n",
            "83/83 [==============================] - 21s 255ms/step - loss: 0.3212 - accuracy: 0.8847 - val_loss: 0.4211 - val_accuracy: 0.8624 - lr: 5.0000e-04\n",
            "Learning rate:  0.0005\n",
            "Epoch 8/100\n",
            "83/83 [==============================] - 21s 254ms/step - loss: 0.2589 - accuracy: 0.9082 - val_loss: 0.3772 - val_accuracy: 0.8654 - lr: 5.0000e-04\n",
            "Learning rate:  0.0005\n",
            "Epoch 9/100\n",
            "83/83 [==============================] - 22s 265ms/step - loss: 0.2922 - accuracy: 0.8991 - val_loss: 0.3211 - val_accuracy: 0.8869 - lr: 5.0000e-04\n",
            "Learning rate:  0.0005\n",
            "Epoch 10/100\n",
            "83/83 [==============================] - 21s 257ms/step - loss: 0.2434 - accuracy: 0.9188 - val_loss: 0.3187 - val_accuracy: 0.8838 - lr: 5.0000e-04\n",
            "Learning rate:  0.0005\n",
            "Epoch 11/100\n",
            "83/83 [==============================] - 21s 254ms/step - loss: 0.2145 - accuracy: 0.9181 - val_loss: 0.3669 - val_accuracy: 0.8777 - lr: 5.0000e-04\n",
            "Learning rate:  0.0005\n",
            "Epoch 12/100\n",
            "83/83 [==============================] - 23s 277ms/step - loss: 0.1865 - accuracy: 0.9226 - val_loss: 0.2731 - val_accuracy: 0.9113 - lr: 5.0000e-04\n",
            "Learning rate:  0.0005\n",
            "Epoch 13/100\n",
            "83/83 [==============================] - 21s 256ms/step - loss: 0.2148 - accuracy: 0.9165 - val_loss: 0.3071 - val_accuracy: 0.8838 - lr: 5.0000e-04\n",
            "Learning rate:  0.0005\n",
            "Epoch 14/100\n",
            "83/83 [==============================] - 21s 257ms/step - loss: 0.2025 - accuracy: 0.9249 - val_loss: 0.2647 - val_accuracy: 0.9052 - lr: 5.0000e-04\n",
            "Learning rate:  0.0005\n",
            "Epoch 15/100\n",
            "83/83 [==============================] - 21s 254ms/step - loss: 0.1874 - accuracy: 0.9317 - val_loss: 0.3129 - val_accuracy: 0.9052 - lr: 5.0000e-04\n",
            "Learning rate:  0.0005\n",
            "Epoch 16/100\n",
            "83/83 [==============================] - 21s 255ms/step - loss: 0.1795 - accuracy: 0.9355 - val_loss: 0.3250 - val_accuracy: 0.8991 - lr: 5.0000e-04\n",
            "Learning rate:  0.0005\n",
            "Epoch 17/100\n",
            "83/83 [==============================] - 21s 257ms/step - loss: 0.1956 - accuracy: 0.9249 - val_loss: 0.3124 - val_accuracy: 0.8930 - lr: 5.0000e-04\n",
            "Learning rate:  0.0005\n",
            "Epoch 18/100\n",
            "83/83 [==============================] - 21s 256ms/step - loss: 0.1585 - accuracy: 0.9431 - val_loss: 0.2679 - val_accuracy: 0.8991 - lr: 5.0000e-04\n",
            "Learning rate:  0.0005\n",
            "Epoch 19/100\n",
            "83/83 [==============================] - 23s 278ms/step - loss: 0.1533 - accuracy: 0.9499 - val_loss: 0.2319 - val_accuracy: 0.9205 - lr: 5.0000e-04\n",
            "Learning rate:  0.0005\n",
            "Epoch 20/100\n",
            "83/83 [==============================] - 21s 257ms/step - loss: 0.1460 - accuracy: 0.9492 - val_loss: 0.2348 - val_accuracy: 0.9052 - lr: 5.0000e-04\n",
            "Learning rate:  0.0005\n",
            "Epoch 21/100\n",
            "83/83 [==============================] - 21s 255ms/step - loss: 0.1504 - accuracy: 0.9393 - val_loss: 0.3194 - val_accuracy: 0.9021 - lr: 5.0000e-04\n",
            "Learning rate:  0.0005\n",
            "Epoch 22/100\n",
            "83/83 [==============================] - 21s 256ms/step - loss: 0.1594 - accuracy: 0.9446 - val_loss: 0.2631 - val_accuracy: 0.8991 - lr: 5.0000e-04\n",
            "Learning rate:  0.0005\n",
            "Epoch 23/100\n",
            "83/83 [==============================] - 21s 254ms/step - loss: 0.1384 - accuracy: 0.9514 - val_loss: 0.3365 - val_accuracy: 0.8746 - lr: 5.0000e-04\n",
            "Learning rate:  0.0005\n",
            "Epoch 24/100\n",
            "83/83 [==============================] - 21s 255ms/step - loss: 0.1221 - accuracy: 0.9568 - val_loss: 0.2424 - val_accuracy: 0.9113 - lr: 5.0000e-04\n",
            "Learning rate:  0.0005\n",
            "Epoch 25/100\n",
            "83/83 [==============================] - 21s 256ms/step - loss: 0.1080 - accuracy: 0.9666 - val_loss: 0.2856 - val_accuracy: 0.9174 - lr: 5.0000e-04\n",
            "Learning rate:  0.0005\n",
            "Epoch 26/100\n",
            "83/83 [==============================] - 21s 257ms/step - loss: 0.1159 - accuracy: 0.9651 - val_loss: 0.3119 - val_accuracy: 0.9113 - lr: 5.0000e-04\n",
            "Learning rate:  0.0005\n",
            "Epoch 27/100\n",
            "83/83 [==============================] - 23s 277ms/step - loss: 0.1250 - accuracy: 0.9590 - val_loss: 0.2517 - val_accuracy: 0.9235 - lr: 5.0000e-04\n",
            "Learning rate:  0.0005\n",
            "Epoch 28/100\n",
            "83/83 [==============================] - 21s 257ms/step - loss: 0.1318 - accuracy: 0.9499 - val_loss: 0.2516 - val_accuracy: 0.9144 - lr: 5.0000e-04\n",
            "Learning rate:  0.0005\n",
            "Epoch 29/100\n",
            "83/83 [==============================] - 21s 255ms/step - loss: 0.1198 - accuracy: 0.9590 - val_loss: 0.3185 - val_accuracy: 0.9113 - lr: 5.0000e-04\n",
            "Learning rate:  0.0005\n",
            "Epoch 30/100\n",
            "83/83 [==============================] - 21s 255ms/step - loss: 0.1252 - accuracy: 0.9514 - val_loss: 0.3138 - val_accuracy: 0.9052 - lr: 5.0000e-04\n",
            "Learning rate:  0.0005\n",
            "Epoch 31/100\n",
            "83/83 [==============================] - 21s 256ms/step - loss: 0.1021 - accuracy: 0.9659 - val_loss: 0.3014 - val_accuracy: 0.9174 - lr: 5.0000e-04\n",
            "Learning rate:  0.0005\n",
            "Epoch 32/100\n",
            "83/83 [==============================] - 21s 257ms/step - loss: 0.1191 - accuracy: 0.9605 - val_loss: 0.2559 - val_accuracy: 0.9144 - lr: 5.0000e-04\n",
            "Learning rate:  0.0005\n",
            "Epoch 33/100\n",
            "83/83 [==============================] - 21s 253ms/step - loss: 0.0961 - accuracy: 0.9719 - val_loss: 0.2827 - val_accuracy: 0.9144 - lr: 5.0000e-04\n",
            "Learning rate:  0.0005\n",
            "Epoch 34/100\n",
            "83/83 [==============================] - 21s 255ms/step - loss: 0.0946 - accuracy: 0.9704 - val_loss: 0.2515 - val_accuracy: 0.9174 - lr: 5.0000e-04\n",
            "Learning rate:  0.0005\n",
            "Epoch 35/100\n",
            "83/83 [==============================] - 22s 268ms/step - loss: 0.1009 - accuracy: 0.9621 - val_loss: 0.2705 - val_accuracy: 0.9083 - lr: 5.0000e-04\n",
            "Learning rate:  0.0005\n",
            "Epoch 36/100\n",
            "83/83 [==============================] - 21s 254ms/step - loss: 0.1101 - accuracy: 0.9651 - val_loss: 0.2883 - val_accuracy: 0.9174 - lr: 5.0000e-04\n",
            "Learning rate:  0.0005\n",
            "Epoch 37/100\n",
            "83/83 [==============================] - 22s 263ms/step - loss: 0.1048 - accuracy: 0.9681 - val_loss: 0.1985 - val_accuracy: 0.9266 - lr: 5.0000e-04\n",
            "Learning rate:  0.0005\n",
            "Epoch 38/100\n",
            "83/83 [==============================] - 21s 254ms/step - loss: 0.0820 - accuracy: 0.9681 - val_loss: 0.1783 - val_accuracy: 0.9266 - lr: 5.0000e-04\n",
            "Learning rate:  0.0005\n",
            "Epoch 39/100\n",
            "83/83 [==============================] - 21s 255ms/step - loss: 0.0901 - accuracy: 0.9666 - val_loss: 0.1938 - val_accuracy: 0.9174 - lr: 5.0000e-04\n",
            "Learning rate:  0.0005\n",
            "Epoch 40/100\n",
            "83/83 [==============================] - 21s 253ms/step - loss: 0.0803 - accuracy: 0.9742 - val_loss: 0.2566 - val_accuracy: 0.9174 - lr: 5.0000e-04\n",
            "Learning rate:  0.0005\n",
            "Epoch 41/100\n",
            "83/83 [==============================] - 21s 255ms/step - loss: 0.0793 - accuracy: 0.9788 - val_loss: 0.2749 - val_accuracy: 0.9052 - lr: 5.0000e-04\n",
            "Learning rate:  0.0005\n",
            "Epoch 42/100\n",
            "83/83 [==============================] - 21s 255ms/step - loss: 0.0991 - accuracy: 0.9651 - val_loss: 0.1979 - val_accuracy: 0.9174 - lr: 5.0000e-04\n",
            "Learning rate:  0.0005\n",
            "Epoch 43/100\n",
            "83/83 [==============================] - 22s 268ms/step - loss: 0.0733 - accuracy: 0.9750 - val_loss: 0.2955 - val_accuracy: 0.9083 - lr: 5.0000e-04\n",
            "Learning rate:  0.0005\n",
            "Epoch 44/100\n",
            "83/83 [==============================] - 21s 253ms/step - loss: 0.0744 - accuracy: 0.9750 - val_loss: 0.2742 - val_accuracy: 0.9113 - lr: 5.0000e-04\n",
            "Learning rate:  0.0005\n",
            "Epoch 45/100\n",
            "83/83 [==============================] - 22s 260ms/step - loss: 0.0732 - accuracy: 0.9750 - val_loss: 0.2245 - val_accuracy: 0.9297 - lr: 5.0000e-04\n",
            "Learning rate:  0.0005\n",
            "Epoch 46/100\n",
            "83/83 [==============================] - 21s 256ms/step - loss: 0.0787 - accuracy: 0.9750 - val_loss: 0.2324 - val_accuracy: 0.9205 - lr: 5.0000e-04\n",
            "Learning rate:  0.0005\n",
            "Epoch 47/100\n",
            "83/83 [==============================] - 21s 255ms/step - loss: 0.0603 - accuracy: 0.9825 - val_loss: 0.2620 - val_accuracy: 0.9266 - lr: 5.0000e-04\n",
            "Learning rate:  0.0005\n",
            "Epoch 48/100\n",
            "83/83 [==============================] - 21s 253ms/step - loss: 0.0904 - accuracy: 0.9712 - val_loss: 0.2434 - val_accuracy: 0.9235 - lr: 5.0000e-04\n",
            "Learning rate:  0.0005\n",
            "Epoch 49/100\n",
            "83/83 [==============================] - 21s 255ms/step - loss: 0.0674 - accuracy: 0.9780 - val_loss: 0.2948 - val_accuracy: 0.9052 - lr: 5.0000e-04\n",
            "Learning rate:  0.0005\n",
            "Epoch 50/100\n",
            "83/83 [==============================] - 22s 269ms/step - loss: 0.0715 - accuracy: 0.9704 - val_loss: 0.2605 - val_accuracy: 0.9174 - lr: 5.0000e-04\n",
            "Learning rate:  0.0005\n",
            "Epoch 51/100\n",
            "83/83 [==============================] - 21s 252ms/step - loss: 0.0700 - accuracy: 0.9765 - val_loss: 0.3159 - val_accuracy: 0.9144 - lr: 5.0000e-04\n",
            "Learning rate:  5e-05\n",
            "Epoch 52/100\n",
            "83/83 [==============================] - 21s 253ms/step - loss: 0.0665 - accuracy: 0.9788 - val_loss: 0.2166 - val_accuracy: 0.9174 - lr: 5.0000e-05\n",
            "Learning rate:  5e-05\n",
            "Epoch 53/100\n",
            "83/83 [==============================] - 21s 255ms/step - loss: 0.0519 - accuracy: 0.9833 - val_loss: 0.2240 - val_accuracy: 0.9297 - lr: 5.0000e-05\n",
            "Learning rate:  5e-05\n",
            "Epoch 54/100\n",
            "83/83 [==============================] - 22s 263ms/step - loss: 0.0395 - accuracy: 0.9871 - val_loss: 0.2320 - val_accuracy: 0.9358 - lr: 5.0000e-05\n",
            "Learning rate:  5e-05\n",
            "Epoch 55/100\n",
            "83/83 [==============================] - 21s 254ms/step - loss: 0.0577 - accuracy: 0.9780 - val_loss: 0.2359 - val_accuracy: 0.9358 - lr: 5.0000e-05\n",
            "Learning rate:  5e-05\n",
            "Epoch 56/100\n",
            "83/83 [==============================] - 22s 262ms/step - loss: 0.0523 - accuracy: 0.9810 - val_loss: 0.1905 - val_accuracy: 0.9450 - lr: 5.0000e-05\n",
            "Learning rate:  5e-05\n",
            "Epoch 57/100\n",
            "83/83 [==============================] - 21s 258ms/step - loss: 0.0502 - accuracy: 0.9825 - val_loss: 0.2052 - val_accuracy: 0.9388 - lr: 5.0000e-05\n",
            "Learning rate:  5e-05\n",
            "Epoch 58/100\n",
            "83/83 [==============================] - 22s 264ms/step - loss: 0.0493 - accuracy: 0.9825 - val_loss: 0.2339 - val_accuracy: 0.9235 - lr: 5.0000e-05\n",
            "Learning rate:  5e-05\n",
            "Epoch 59/100\n",
            "83/83 [==============================] - 21s 252ms/step - loss: 0.0506 - accuracy: 0.9803 - val_loss: 0.2259 - val_accuracy: 0.9358 - lr: 5.0000e-05\n",
            "Learning rate:  5e-05\n",
            "Epoch 60/100\n",
            "83/83 [==============================] - 21s 256ms/step - loss: 0.0442 - accuracy: 0.9863 - val_loss: 0.2591 - val_accuracy: 0.9266 - lr: 5.0000e-05\n",
            "Learning rate:  5e-05\n",
            "Epoch 61/100\n",
            "83/83 [==============================] - 21s 254ms/step - loss: 0.0446 - accuracy: 0.9856 - val_loss: 0.2477 - val_accuracy: 0.9358 - lr: 5.0000e-05\n",
            "Learning rate:  5e-05\n",
            "Epoch 62/100\n",
            "83/83 [==============================] - 21s 255ms/step - loss: 0.0653 - accuracy: 0.9803 - val_loss: 0.1995 - val_accuracy: 0.9205 - lr: 5.0000e-05\n",
            "Learning rate:  5e-05\n",
            "Epoch 63/100\n",
            "83/83 [==============================] - 21s 253ms/step - loss: 0.0477 - accuracy: 0.9856 - val_loss: 0.2061 - val_accuracy: 0.9419 - lr: 5.0000e-05\n",
            "Learning rate:  5e-05\n",
            "Epoch 64/100\n",
            "83/83 [==============================] - 21s 253ms/step - loss: 0.0457 - accuracy: 0.9833 - val_loss: 0.2420 - val_accuracy: 0.9235 - lr: 5.0000e-05\n",
            "Learning rate:  5e-05\n",
            "Epoch 65/100\n",
            "83/83 [==============================] - 22s 267ms/step - loss: 0.0421 - accuracy: 0.9871 - val_loss: 0.2049 - val_accuracy: 0.9388 - lr: 5.0000e-05\n",
            "Learning rate:  5e-05\n",
            "Epoch 66/100\n",
            "83/83 [==============================] - 21s 255ms/step - loss: 0.0469 - accuracy: 0.9818 - val_loss: 0.2393 - val_accuracy: 0.9297 - lr: 5.0000e-05\n",
            "Learning rate:  5e-05\n",
            "Epoch 67/100\n",
            "83/83 [==============================] - 21s 253ms/step - loss: 0.0425 - accuracy: 0.9879 - val_loss: 0.2092 - val_accuracy: 0.9358 - lr: 5.0000e-05\n",
            "Learning rate:  5e-05\n",
            "Epoch 68/100\n",
            "83/83 [==============================] - 21s 253ms/step - loss: 0.0425 - accuracy: 0.9863 - val_loss: 0.2200 - val_accuracy: 0.9358 - lr: 5.0000e-05\n",
            "Learning rate:  5e-05\n",
            "Epoch 69/100\n",
            "83/83 [==============================] - 21s 253ms/step - loss: 0.0397 - accuracy: 0.9856 - val_loss: 0.2235 - val_accuracy: 0.9297 - lr: 5.0000e-05\n",
            "Learning rate:  5e-05\n",
            "Epoch 70/100\n",
            "83/83 [==============================] - 21s 252ms/step - loss: 0.0304 - accuracy: 0.9939 - val_loss: 0.2376 - val_accuracy: 0.9235 - lr: 5.0000e-05\n",
            "Learning rate:  5e-05\n",
            "Epoch 71/100\n",
            "83/83 [==============================] - 21s 253ms/step - loss: 0.0382 - accuracy: 0.9871 - val_loss: 0.2126 - val_accuracy: 0.9235 - lr: 5.0000e-05\n",
            "Learning rate:  5e-06\n",
            "Epoch 72/100\n",
            "83/83 [==============================] - 22s 267ms/step - loss: 0.0537 - accuracy: 0.9825 - val_loss: 0.2180 - val_accuracy: 0.9450 - lr: 5.0000e-06\n",
            "Learning rate:  5e-06\n",
            "Epoch 73/100\n",
            "83/83 [==============================] - 21s 253ms/step - loss: 0.0354 - accuracy: 0.9909 - val_loss: 0.2258 - val_accuracy: 0.9235 - lr: 5.0000e-06\n",
            "Learning rate:  5e-06\n",
            "Epoch 74/100\n",
            "83/83 [==============================] - 21s 254ms/step - loss: 0.0385 - accuracy: 0.9848 - val_loss: 0.2193 - val_accuracy: 0.9327 - lr: 5.0000e-06\n",
            "Learning rate:  5e-06\n",
            "Epoch 75/100\n",
            "83/83 [==============================] - 21s 253ms/step - loss: 0.0291 - accuracy: 0.9932 - val_loss: 0.2589 - val_accuracy: 0.9266 - lr: 5.0000e-06\n",
            "Learning rate:  5e-06\n",
            "Epoch 76/100\n",
            "83/83 [==============================] - 21s 252ms/step - loss: 0.0268 - accuracy: 0.9947 - val_loss: 0.2369 - val_accuracy: 0.9174 - lr: 5.0000e-06\n",
            "Learning rate:  5e-06\n",
            "Epoch 77/100\n",
            "83/83 [==============================] - 21s 252ms/step - loss: 0.0415 - accuracy: 0.9886 - val_loss: 0.2608 - val_accuracy: 0.9144 - lr: 5.0000e-06\n",
            "Learning rate:  5e-06\n",
            "Epoch 78/100\n",
            "83/83 [==============================] - 21s 252ms/step - loss: 0.0471 - accuracy: 0.9810 - val_loss: 0.2642 - val_accuracy: 0.9235 - lr: 5.0000e-06\n",
            "Learning rate:  5e-06\n",
            "Epoch 79/100\n",
            "83/83 [==============================] - 21s 254ms/step - loss: 0.0554 - accuracy: 0.9825 - val_loss: 0.2258 - val_accuracy: 0.9358 - lr: 5.0000e-06\n",
            "Learning rate:  5e-06\n",
            "Epoch 80/100\n",
            "83/83 [==============================] - 22s 267ms/step - loss: 0.0352 - accuracy: 0.9894 - val_loss: 0.2134 - val_accuracy: 0.9388 - lr: 5.0000e-06\n",
            "Learning rate:  5e-06\n",
            "Epoch 81/100\n",
            "83/83 [==============================] - 21s 255ms/step - loss: 0.0307 - accuracy: 0.9879 - val_loss: 0.2403 - val_accuracy: 0.9358 - lr: 5.0000e-06\n",
            "Learning rate:  5e-06\n",
            "Epoch 82/100\n",
            "83/83 [==============================] - 22s 265ms/step - loss: 0.0481 - accuracy: 0.9825 - val_loss: 0.2148 - val_accuracy: 0.9327 - lr: 5.0000e-06\n",
            "Learning rate:  5e-06\n",
            "Epoch 83/100\n",
            "83/83 [==============================] - 22s 260ms/step - loss: 0.0426 - accuracy: 0.9886 - val_loss: 0.1685 - val_accuracy: 0.9480 - lr: 5.0000e-06\n",
            "Learning rate:  5e-06\n",
            "Epoch 84/100\n",
            "83/83 [==============================] - 21s 253ms/step - loss: 0.0543 - accuracy: 0.9848 - val_loss: 0.2312 - val_accuracy: 0.9327 - lr: 5.0000e-06\n",
            "Learning rate:  5e-06\n",
            "Epoch 85/100\n",
            "83/83 [==============================] - 21s 251ms/step - loss: 0.0400 - accuracy: 0.9856 - val_loss: 0.2317 - val_accuracy: 0.9266 - lr: 5.0000e-06\n",
            "Learning rate:  5e-06\n",
            "Epoch 86/100\n",
            "83/83 [==============================] - 21s 251ms/step - loss: 0.0534 - accuracy: 0.9810 - val_loss: 0.2729 - val_accuracy: 0.9235 - lr: 5.0000e-06\n",
            "Learning rate:  5e-06\n",
            "Epoch 87/100\n",
            "83/83 [==============================] - 21s 252ms/step - loss: 0.0427 - accuracy: 0.9871 - val_loss: 0.2291 - val_accuracy: 0.9266 - lr: 5.0000e-06\n",
            "Learning rate:  5e-06\n",
            "Epoch 88/100\n",
            "83/83 [==============================] - 22s 269ms/step - loss: 0.0511 - accuracy: 0.9848 - val_loss: 0.2309 - val_accuracy: 0.9297 - lr: 5.0000e-06\n",
            "Learning rate:  5e-06\n",
            "Epoch 89/100\n",
            "83/83 [==============================] - 21s 252ms/step - loss: 0.0406 - accuracy: 0.9879 - val_loss: 0.2072 - val_accuracy: 0.9388 - lr: 5.0000e-06\n",
            "Learning rate:  5e-06\n",
            "Epoch 90/100\n",
            "83/83 [==============================] - 21s 251ms/step - loss: 0.0449 - accuracy: 0.9863 - val_loss: 0.2405 - val_accuracy: 0.9235 - lr: 5.0000e-06\n",
            "Learning rate:  5e-06\n",
            "Epoch 91/100\n",
            "83/83 [==============================] - 22s 260ms/step - loss: 0.0392 - accuracy: 0.9863 - val_loss: 0.1804 - val_accuracy: 0.9572 - lr: 5.0000e-06\n",
            "Learning rate:  5e-07\n",
            "Epoch 92/100\n",
            "83/83 [==============================] - 21s 253ms/step - loss: 0.0364 - accuracy: 0.9886 - val_loss: 0.2247 - val_accuracy: 0.9266 - lr: 5.0000e-07\n",
            "Learning rate:  5e-07\n",
            "Epoch 93/100\n",
            "83/83 [==============================] - 21s 251ms/step - loss: 0.0379 - accuracy: 0.9886 - val_loss: 0.2473 - val_accuracy: 0.9297 - lr: 5.0000e-07\n",
            "Learning rate:  5e-07\n",
            "Epoch 94/100\n",
            "83/83 [==============================] - 21s 252ms/step - loss: 0.0404 - accuracy: 0.9894 - val_loss: 0.2236 - val_accuracy: 0.9174 - lr: 5.0000e-07\n",
            "Learning rate:  5e-07\n",
            "Epoch 95/100\n",
            "83/83 [==============================] - 22s 265ms/step - loss: 0.0525 - accuracy: 0.9833 - val_loss: 0.2434 - val_accuracy: 0.9297 - lr: 5.0000e-07\n",
            "Learning rate:  5e-07\n",
            "Epoch 96/100\n",
            "83/83 [==============================] - 21s 251ms/step - loss: 0.0428 - accuracy: 0.9901 - val_loss: 0.2827 - val_accuracy: 0.9266 - lr: 5.0000e-07\n",
            "Learning rate:  5e-07\n",
            "Epoch 97/100\n",
            "83/83 [==============================] - 21s 253ms/step - loss: 0.0439 - accuracy: 0.9841 - val_loss: 0.2317 - val_accuracy: 0.9327 - lr: 5.0000e-07\n",
            "Learning rate:  5e-07\n",
            "Epoch 98/100\n",
            "83/83 [==============================] - 21s 252ms/step - loss: 0.0318 - accuracy: 0.9932 - val_loss: 0.2015 - val_accuracy: 0.9388 - lr: 5.0000e-07\n",
            "Learning rate:  5e-07\n",
            "Epoch 99/100\n",
            "83/83 [==============================] - 21s 251ms/step - loss: 0.0453 - accuracy: 0.9856 - val_loss: 0.2230 - val_accuracy: 0.9235 - lr: 5.0000e-07\n",
            "Learning rate:  5e-07\n",
            "Epoch 100/100\n",
            "83/83 [==============================] - 21s 253ms/step - loss: 0.0495 - accuracy: 0.9795 - val_loss: 0.2258 - val_accuracy: 0.9235 - lr: 5.0000e-07\n"
          ]
        }
      ]
    },
    {
      "cell_type": "markdown",
      "source": [
        "# 7.Test and evaluate models"
      ],
      "metadata": {
        "id": "xraUw3pJJRmv"
      }
    },
    {
      "cell_type": "code",
      "source": [
        "model_loss, model_acc= model.evaluate(test_generator)\n",
        "print(\"Model has a loss of %.2f and accuracy %.2f%%\" % (model_loss, model_acc*100))"
      ],
      "metadata": {
        "colab": {
          "base_uri": "https://localhost:8080/"
        },
        "id": "rPtGb0-ob1A_",
        "outputId": "d5d5f62a-affd-4fc3-c32b-8db87a791425"
      },
      "execution_count": null,
      "outputs": [
        {
          "output_type": "stream",
          "name": "stdout",
          "text": [
            "26/26 [==============================] - 116s 5s/step - loss: 0.2154 - accuracy: 0.9322\n",
            "Model has a loss of 0.22 and accuracy 93.22%\n"
          ]
        }
      ]
    },
    {
      "cell_type": "code",
      "source": [
        "from PIL import Image\n",
        "from keras.preprocessing import image\n",
        "from tensorflow.keras.utils import load_img, img_to_array\n",
        "\n",
        "img = load_img('/content/gdrive/My Drive/MTech in IS/5002Project/Garbage Classification/truetest/plastic01.jpg', target_size=(224, 224))\n",
        "img_tensor = img_to_array(img)\n",
        "img_tensor = np.expand_dims(img_tensor, axis=0)\n",
        "img_tensor /= 255.\n",
        "\n",
        "model = load_model('/content/gdrive/My Drive/MTech in IS/5002Project/Garbage Classification/colab/5class_mob.h5')\n",
        "prediction = model.predict(img_tensor)\n",
        "labels[np.argmax(prediction)]"
      ],
      "metadata": {
        "colab": {
          "base_uri": "https://localhost:8080/",
          "height": 52
        },
        "id": "8sHxJU7aLM9C",
        "outputId": "e11a49d0-5187-4e4c-c460-c533f25d531d"
      },
      "execution_count": null,
      "outputs": [
        {
          "output_type": "stream",
          "name": "stdout",
          "text": [
            "1/1 [==============================] - 1s 1s/step\n"
          ]
        },
        {
          "output_type": "execute_result",
          "data": {
            "text/plain": [
              "'Glass'"
            ],
            "application/vnd.google.colaboratory.intrinsic+json": {
              "type": "string"
            }
          },
          "metadata": {},
          "execution_count": 7
        }
      ]
    },
    {
      "cell_type": "markdown",
      "source": [
        "# 8.Plot curves on validation loss and accuracy"
      ],
      "metadata": {
        "id": "_fnfwPxvajK8"
      }
    },
    {
      "cell_type": "code",
      "source": [
        "records     = pd.read_csv(folderpath+modelname +'.csv')\n",
        "\n",
        "plt.style.use('seaborn')\n",
        "plt.rcParams['ytick.right']     = True\n",
        "plt.rcParams['ytick.labelright']= True\n",
        "plt.rcParams['ytick.left']      = False\n",
        "plt.rcParams['ytick.labelleft'] = False\n",
        "plt.rcParams['figure.figsize']  = [7,7]\n",
        "\n",
        "plt.figure()\n",
        "plt.subplot(211)\n",
        "plt.plot(records['val_loss'], label=\"validation\")\n",
        "plt.plot(records['loss'],label=\"training\")\n",
        "plt.yticks([0.00,0.50,1.00,1.50])\n",
        "plt.title('Loss value',fontsize=12)\n",
        "\n",
        "ax          = plt.gca()\n",
        "ax.set_xticklabels([])\n",
        "\n",
        "plt.subplot(212)\n",
        "plt.plot(records['val_accuracy'],label=\"validation\")\n",
        "plt.plot(records['accuracy'],label=\"training\")\n",
        "plt.yticks([0.5,0.6,0.7,0.8])\n",
        "plt.title('Accuracy',fontsize=12)\n",
        "ax.legend()\n",
        "plt.show()"
      ],
      "metadata": {
        "colab": {
          "base_uri": "https://localhost:8080/",
          "height": 443
        },
        "id": "gXv1eRIvbPjq",
        "outputId": "4035153d-1975-4977-f039-219c726cec6e"
      },
      "execution_count": null,
      "outputs": [
        {
          "output_type": "display_data",
          "data": {
            "text/plain": [
              "<Figure size 504x504 with 2 Axes>"
            ],
            "image/png": "[encoded data removed]"
          },
          "metadata": {}
        }
      ]
    }
  ]
}